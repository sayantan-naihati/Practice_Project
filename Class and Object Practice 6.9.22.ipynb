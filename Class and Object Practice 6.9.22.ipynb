{
 "cells": [
  {
   "cell_type": "code",
   "execution_count": null,
   "id": "ff45ac5d",
   "metadata": {},
   "outputs": [],
   "source": [
    "#Person Class"
   ]
  },
  {
   "cell_type": "code",
   "execution_count": 21,
   "id": "e09da1b5",
   "metadata": {},
   "outputs": [],
   "source": [
    "class Person:\n",
    "    def __init__(self,name,age):\n",
    "        self.name=name\n",
    "        self.age=age\n"
   ]
  },
  {
   "cell_type": "code",
   "execution_count": 23,
   "id": "5d8de4ff",
   "metadata": {},
   "outputs": [],
   "source": [
    "p1=Person(\"john\",36)"
   ]
  },
  {
   "cell_type": "code",
   "execution_count": 24,
   "id": "b4c3e508",
   "metadata": {},
   "outputs": [
    {
     "name": "stdout",
     "output_type": "stream",
     "text": [
      "john\n",
      "36\n"
     ]
    }
   ],
   "source": [
    "print(p1.name)\n",
    "print(p1.age)"
   ]
  },
  {
   "cell_type": "code",
   "execution_count": 49,
   "id": "f090dbbd",
   "metadata": {},
   "outputs": [],
   "source": [
    "#Class Car"
   ]
  },
  {
   "cell_type": "code",
   "execution_count": 29,
   "id": "bac3fa11",
   "metadata": {},
   "outputs": [],
   "source": [
    "class Car():\n",
    "    def __init__(self,model,colour):\n",
    "        self.model=model\n",
    "        self.colour=colour\n",
    "    def show(self):\n",
    "        print(\"Model is\",self.model)\n",
    "        print(\"Colour is\",self.colour)"
   ]
  },
  {
   "cell_type": "code",
   "execution_count": 30,
   "id": "2c8ccf6e",
   "metadata": {},
   "outputs": [],
   "source": [
    "Audi=Car(\"Audi A4\",\"Blue\")\n",
    "Ferrari=Car(\"Ferrari 488\",\"Green\")"
   ]
  },
  {
   "cell_type": "code",
   "execution_count": 31,
   "id": "70b1616f",
   "metadata": {},
   "outputs": [
    {
     "name": "stdout",
     "output_type": "stream",
     "text": [
      "Model is Audi A4\n",
      "Colour is Blue\n",
      "Model is Ferrari 488\n",
      "Colour is Green\n"
     ]
    }
   ],
   "source": [
    "Audi.show()\n",
    "Ferrari.show()"
   ]
  },
  {
   "cell_type": "code",
   "execution_count": null,
   "id": "21012aef",
   "metadata": {},
   "outputs": [],
   "source": [
    "#Class Dog"
   ]
  },
  {
   "cell_type": "code",
   "execution_count": 46,
   "id": "8609cd74",
   "metadata": {},
   "outputs": [],
   "source": [
    "class Dog:\n",
    "    def __init__(self,Name,Colour,Age):\n",
    "        self.Name=Name\n",
    "        self.Colour=Colour\n",
    "        self.Age=Age\n",
    "    def display(self):\n",
    "        print(\"Name of the dog is:\"+self.Name+\"    \"+\"Colour of the Dog is:\"+self.Colour+\"   \"+\"Age of the Dog is:\"+str(self.Age))"
   ]
  },
  {
   "cell_type": "code",
   "execution_count": 47,
   "id": "93706493",
   "metadata": {},
   "outputs": [],
   "source": [
    "Pug=Dog(\"Tommy\",\"Brown\",6)\n",
    "Speech=Dog(\"Johnny\",\"White\",8)\n"
   ]
  },
  {
   "cell_type": "code",
   "execution_count": 48,
   "id": "262eb878",
   "metadata": {},
   "outputs": [
    {
     "name": "stdout",
     "output_type": "stream",
     "text": [
      "Name of the dog is:Tommy    Colour of the Dog is:Brown   Age of the Dog is:6\n",
      "Name of the dog is:Johnny    Colour of the Dog is:White   Age of the Dog is:8\n"
     ]
    }
   ],
   "source": [
    "Pug.display()\n",
    "Speech.display()"
   ]
  },
  {
   "cell_type": "code",
   "execution_count": null,
   "id": "a26638e0",
   "metadata": {},
   "outputs": [],
   "source": [
    "#Single Inheritance"
   ]
  },
  {
   "cell_type": "code",
   "execution_count": 84,
   "id": "4f6758da",
   "metadata": {},
   "outputs": [],
   "source": [
    "class Person:\n",
    "    def __init__(self,Name,IdNumber):\n",
    "        self.Name=Name\n",
    "        self.IdNumber=IdNumber\n",
    "    def display(self):\n",
    "        print(\"My Name is:\"+self.Name)\n",
    "        print(\"Id Number:\"+str(self.IdNumber))"
   ]
  },
  {
   "cell_type": "code",
   "execution_count": 85,
   "id": "784b834e",
   "metadata": {},
   "outputs": [],
   "source": [
    "class Employee(Person):\n",
    "    def __init__(self,Name,IdNumber,Age,Post):\n",
    "        self.Age=Age\n",
    "        self.Post=Post\n",
    "        \n",
    "        Person.__init__(self,Name,IdNumber)\n",
    "    def show(self):\n",
    "        print(\"My Name is:\"+self.Name)\n",
    "        print(\"Id Number:\"+str(self.IdNumber))\n",
    "        print(\"Age:\"+str(self.Age))\n",
    "        print(\"Post:\"+self.Post)"
   ]
  },
  {
   "cell_type": "code",
   "execution_count": 86,
   "id": "a58753ea",
   "metadata": {},
   "outputs": [
    {
     "name": "stdout",
     "output_type": "stream",
     "text": [
      "My Name is:Rony\n",
      "Id Number:101\n",
      "Age:38\n",
      "Post:Intern\n"
     ]
    }
   ],
   "source": [
    "e=Employee(\"Rony\",101,38,\"Intern\")\n",
    "e.show()"
   ]
  },
  {
   "cell_type": "code",
   "execution_count": null,
   "id": "d92ee45c",
   "metadata": {},
   "outputs": [],
   "source": [
    "#Single Inheritance"
   ]
  },
  {
   "cell_type": "code",
   "execution_count": 50,
   "id": "b83ab913",
   "metadata": {},
   "outputs": [],
   "source": [
    "class Animal:\n",
    "    def speak(self):\n",
    "        print(\"Animal Speaking\")\n",
    "class Dog(Animal):\n",
    "    def bark(self):\n",
    "        print(\"Dog Barking\")"
   ]
  },
  {
   "cell_type": "code",
   "execution_count": 51,
   "id": "10b372ee",
   "metadata": {},
   "outputs": [],
   "source": [
    "d=Dog()"
   ]
  },
  {
   "cell_type": "code",
   "execution_count": 53,
   "id": "d07b1e70",
   "metadata": {},
   "outputs": [
    {
     "name": "stdout",
     "output_type": "stream",
     "text": [
      "Animal Speaking\n",
      "Dog Barking\n"
     ]
    }
   ],
   "source": [
    "d.speak()\n",
    "d.bark()"
   ]
  },
  {
   "cell_type": "code",
   "execution_count": null,
   "id": "3c23ae33",
   "metadata": {},
   "outputs": [],
   "source": [
    "#Multilevel Inheritance"
   ]
  },
  {
   "cell_type": "code",
   "execution_count": 54,
   "id": "8fbe5ac0",
   "metadata": {},
   "outputs": [
    {
     "name": "stdout",
     "output_type": "stream",
     "text": [
      "Animal Speaking...\n",
      "Dog Barking..\n",
      "DogChild eating\n"
     ]
    }
   ],
   "source": [
    "class Animal:\n",
    "    def speak(self):\n",
    "        print(\"Animal Speaking...\")\n",
    "class Dog(Animal):\n",
    "    def bark(self):\n",
    "        print(\"Dog Barking..\")\n",
    "class DogChild(Dog):\n",
    "    def eat(self):\n",
    "        print(\"DogChild eating\")\n",
    "        \n",
    "d1=DogChild()\n",
    "d1.speak()\n",
    "d1.bark()\n",
    "d1.eat()"
   ]
  },
  {
   "cell_type": "code",
   "execution_count": null,
   "id": "9b4d3682",
   "metadata": {},
   "outputs": [],
   "source": [
    "#Multiple Inheritance"
   ]
  },
  {
   "cell_type": "code",
   "execution_count": 56,
   "id": "3298f547",
   "metadata": {},
   "outputs": [
    {
     "name": "stdout",
     "output_type": "stream",
     "text": [
      "15\n",
      "50\n",
      "0.5\n"
     ]
    }
   ],
   "source": [
    "class Calculation1:\n",
    "    def Addition(self,a,b):\n",
    "        return (a+b)\n",
    "class Calculation2:\n",
    "    def Multiplication(self,a,b):\n",
    "        return(a*b)\n",
    "class Derived(Calculation1,Calculation2):\n",
    "    def Division(self,a,b):\n",
    "        return(a/b)\n",
    "c=Derived()\n",
    "print(c.Addition(5,10))\n",
    "print(c.Multiplication(5,10))\n",
    "print(c.Division(5,10))\n"
   ]
  },
  {
   "cell_type": "code",
   "execution_count": null,
   "id": "6c76e8ee",
   "metadata": {},
   "outputs": [],
   "source": [
    "#Creating Two Objects for the same class"
   ]
  },
  {
   "cell_type": "code",
   "execution_count": 110,
   "id": "253784dc",
   "metadata": {},
   "outputs": [
    {
     "name": "stdout",
     "output_type": "stream",
     "text": [
      "Colour of the Bird 1 is :Red\n",
      "Colour of the Bird 1 is:10 Grams\n",
      "Colour of the Bird 2 is :Blue\n",
      "Colour of the Bird 2 is:15 Grams\n"
     ]
    }
   ],
   "source": [
    "class Bird:\n",
    "    def __init__(self,number,colour,weight):\n",
    "        self.colour=colour\n",
    "        self.number=number\n",
    "        self.weight=weight\n",
    "    def display(self):\n",
    "        print(\"Colour of the Bird \"+self.number+ \" is :\"+self.colour)\n",
    "        print(\"Colour of the Bird \"+self.number+ \" is:\"+self.weight)\n",
    "\n",
    "c=Bird(\"1\",\"Red\",\"10 Grams\")\n",
    "d=Bird(\"2\",\"Blue\",\"15 Grams\")\n",
    "c.display()\n",
    "d.display()\n"
   ]
  },
  {
   "cell_type": "code",
   "execution_count": null,
   "id": "c46a9232",
   "metadata": {},
   "outputs": [],
   "source": [
    "#Encaplusation"
   ]
  },
  {
   "cell_type": "code",
   "execution_count": 116,
   "id": "ac98f95b",
   "metadata": {},
   "outputs": [
    {
     "name": "stdout",
     "output_type": "stream",
     "text": [
      "Kolkata\n"
     ]
    }
   ],
   "source": [
    "class College:\n",
    "    def __init__(self):\n",
    "        self._location=\"Kolkata\"\n",
    "ob=College()\n",
    "print(ob._location)\n",
    "\n",
    "#If we change _ by __ then it will become encapsulated or protected. Then we cannot use it from outside the class."
   ]
  },
  {
   "cell_type": "code",
   "execution_count": null,
   "id": "5a69653e",
   "metadata": {},
   "outputs": [],
   "source": [
    "#Name Mangling"
   ]
  },
  {
   "cell_type": "code",
   "execution_count": 117,
   "id": "e7c9f9b7",
   "metadata": {},
   "outputs": [
    {
     "name": "stdout",
     "output_type": "stream",
     "text": [
      "Kolkata\n"
     ]
    }
   ],
   "source": [
    "class College:\n",
    "    def __init__(self):\n",
    "        self.__location=\"Kolkata\"\n",
    "ob=College()\n",
    "print(ob._College__location)"
   ]
  },
  {
   "cell_type": "code",
   "execution_count": null,
   "id": "f47b3b64",
   "metadata": {},
   "outputs": [],
   "source": [
    "#Polymorphism"
   ]
  },
  {
   "cell_type": "code",
   "execution_count": 121,
   "id": "274ef286",
   "metadata": {},
   "outputs": [
    {
     "name": "stdout",
     "output_type": "stream",
     "text": [
      "There are many types of birds...\n",
      "Some can fly and some cannot..\n",
      "Parrot is One Type of Bird...\n",
      "Parrots can fly..\n",
      "Penguin is One Type of Bird...\n",
      "Penguins cannot fly..\n"
     ]
    }
   ],
   "source": [
    "class Bird:\n",
    "    def intro(self):\n",
    "        print(\"There are many types of birds...\")\n",
    "    def flight(self):\n",
    "        print(\"Some can fly and some cannot..\")\n",
    "class parrot(Bird):\n",
    "    def intro(self):\n",
    "        print(\"Parrot is One Type of Bird...\")\n",
    "    def flight(self):\n",
    "        print(\"Parrots can fly..\")\n",
    "class penguin(Bird):\n",
    "    def intro(self):\n",
    "        print(\"Penguin is One Type of Bird...\")\n",
    "    def flight(self):\n",
    "        print(\"Penguins cannot fly..\")\n",
    "        \n",
    "a=Bird()\n",
    "b=parrot()\n",
    "c=penguin()\n",
    "\n",
    "a.intro()\n",
    "a.flight()\n",
    "\n",
    "b.intro()\n",
    "b.flight()\n",
    "\n",
    "c.intro()\n",
    "c.flight()\n",
    "\n",
    "#Here the methods \"intro\" and \"flight\" are used in both child class and parent class.\n",
    "#So we can see methods with same name can be used in both Child class and Parent class.\n",
    "#This is polymorphism...\n",
    "\n",
    "        "
   ]
  }
 ],
 "metadata": {
  "kernelspec": {
   "display_name": "Python 3 (ipykernel)",
   "language": "python",
   "name": "python3"
  },
  "language_info": {
   "codemirror_mode": {
    "name": "ipython",
    "version": 3
   },
   "file_extension": ".py",
   "mimetype": "text/x-python",
   "name": "python",
   "nbconvert_exporter": "python",
   "pygments_lexer": "ipython3",
   "version": "3.9.12"
  }
 },
 "nbformat": 4,
 "nbformat_minor": 5
}
